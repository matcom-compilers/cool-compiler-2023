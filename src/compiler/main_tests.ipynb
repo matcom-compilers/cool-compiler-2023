{
 "cells": [
  {
   "cell_type": "markdown",
   "metadata": {},
   "source": [
    "# Lexer"
   ]
  },
  {
   "cell_type": "markdown",
   "metadata": {},
   "source": [
    "##### Basic test case"
   ]
  },
  {
   "cell_type": "code",
   "execution_count": 16,
   "metadata": {},
   "outputs": [
    {
     "name": "stdout",
     "output_type": "stream",
     "text": [
      "--------------------------CASE---------------------------\n",
      "class Main {\n",
      "    str <- \"The big brown fox\n",
      "            jumped over the fence\";\n",
      "\tmain() : Object {\n",
      "        {\n",
      "            out_string(\"Yay! This is the newest shites );\n",
      "        }\n",
      "    };\n",
      "};\n",
      "\n",
      "(*\n",
      "#1 CLASS\n",
      "#1 TYPEID Main\n",
      "#1 '{'\n",
      "#2 OBJECTID str\n",
      "#2 ASSIGN\n",
      "#3 ERROR \"Unterminated string constant\"\n",
      "#3 OBJECTID jumped\n",
      "#3 OBJECTID over\n",
      "#3 OBJECTID the\n",
      "#3 OBJECTID fence\n",
      "#4 ERROR \"Unterminated string constant\"\n",
      "#4 OBJECTID main\n",
      "#4 '('\n",
      "#4 ')'\n",
      "#4 ':'\n",
      "#4 TYPEID Object\n",
      "#4 '{'\n",
      "#5 '{'\n",
      "#6 OBJECTID out_string\n",
      "#6 '('\n",
      "#7 ERROR \"Unterminated string constant\"\n",
      "#7 '}'\n",
      "#8 '}'\n",
      "#8 ';'\n",
      "#9 '}'\n",
      "#9 ';'\n",
      "*)\n",
      "\n",
      "-------------------------TOKENS--------------------------\n",
      "Token(type='CLASS', value='class', lineno=1, index=0, end=5)\n",
      "Token(type='TYPEID', value='Main', lineno=1, index=6, end=10)\n",
      "Token(type='{', value='{', lineno=1, index=11, end=12)\n",
      "Token(type='OBJECTID', value='str', lineno=2, index=17, end=20)\n",
      "Token(type='ASSIGN', value='<-', lineno=2, index=21, end=23)\n",
      "ERROR(LexicographicError(2,30): Unterminated string constant='... brown fox')\n",
      "Token(type='OBJECTID', value='jumped', lineno=3, index=55, end=61)\n",
      "Token(type='OBJECTID', value='over', lineno=3, index=62, end=66)\n",
      "Token(type='OBJECTID', value='the', lineno=3, index=67, end=70)\n",
      "Token(type='OBJECTID', value='fence', lineno=3, index=71, end=76)\n",
      "ERROR(LexicographicError(3,36): Unterminated string constant='\";')\n",
      "Token(type='OBJECTID', value='main', lineno=4, index=80, end=84)\n",
      "Token(type='(', value='(', lineno=4, index=84, end=85)\n",
      "Token(type=')', value=')', lineno=4, index=85, end=86)\n",
      "Token(type=':', value=':', lineno=4, index=87, end=88)\n",
      "Token(type='TYPEID', value='Object', lineno=4, index=89, end=95)\n",
      "Token(type='{', value='{', lineno=4, index=96, end=97)\n",
      "Token(type='{', value='{', lineno=5, index=106, end=107)\n",
      "Token(type='OBJECTID', value='out_string', lineno=6, index=120, end=130)\n",
      "Token(type='(', value='(', lineno=6, index=130, end=131)\n",
      "ERROR(LexicographicError(6,58): Unterminated string constant='... shites );')\n",
      "Token(type='}', value='}', lineno=7, index=174, end=175)\n",
      "Token(type='}', value='}', lineno=8, index=180, end=181)\n",
      "Token(type=';', value=';', lineno=8, index=181, end=182)\n",
      "Token(type='}', value='}', lineno=9, index=183, end=184)\n",
      "Token(type=';', value=';', lineno=9, index=184, end=185)\n",
      "\n",
      "-----------------------ERRORS--------------------------\n",
      "ERROR(LexicographicError(2,30): Unterminated string constant='... brown fox')\n",
      "ERROR(LexicographicError(3,36): Unterminated string constant='\";')\n",
      "ERROR(LexicographicError(6,58): Unterminated string constant='... shites );')\n"
     ]
    }
   ],
   "source": [
    "from lexer.cool_lexer import CoolLexer\n",
    "import os\n",
    "case = \"string4.cl\"\n",
    "\n",
    "\n",
    "base_dir = os.getcwd()\n",
    "base_url = os.path.join(base_dir[:-13], \"tests/lexer/\")\n",
    "\n",
    "dir = '/'.join([base_url,case])\n",
    "with open(dir, \"r\") as f:\n",
    "    content = f.read()\n",
    "print(\"--------------------------CASE---------------------------\")\n",
    "print(content, end=\"\\n\\n\")\n",
    "\n",
    "print(\"-------------------------TOKENS--------------------------\")\n",
    "lexer = CoolLexer()\n",
    "for token in lexer.tokenize(content):\n",
    "    print(token)\n",
    "\n",
    "print(\"\\n-----------------------ERRORS--------------------------\")\n",
    "for e in lexer.errors:\n",
    "    print(e)"
   ]
  },
  {
   "cell_type": "markdown",
   "metadata": {},
   "source": [
    "##### Run all test cases"
   ]
  },
  {
   "cell_type": "code",
   "execution_count": 17,
   "metadata": {},
   "outputs": [
    {
     "name": "stdout",
     "output_type": "stream",
     "text": [
      "/home/raul/Almacenamiento/Computation Sience/Compiler/cool-compiler-2023/tests/lexer/\n",
      "iis1.cl\n",
      "iis6.cl\n",
      "iis5.cl\n",
      "comment1.cl\n",
      "mixed2.cl\n",
      "mixed1.cl\n",
      "iis3.cl\n",
      "iis4.cl\n",
      "string2.cl\n",
      "string1.cl\n",
      "string4.cl\n",
      "string3.cl\n",
      "iis2.cl\n"
     ]
    }
   ],
   "source": [
    "from lexer.cool_lexer import CoolLexer\n",
    "import os\n",
    "\n",
    "base_dir = os.getcwd()\n",
    "base_url = os.path.join(base_dir[:-13], \"tests/lexer/\")\n",
    "print (base_url)\n",
    "\n",
    "cases = [case for case in os.listdir(base_url) if case.endswith('.cl')] \n",
    "for case in cases:\n",
    "    dir = '/'.join([base_url,case])\n",
    "    with open(dir, \"r\") as f:\n",
    "        content = f.read()\n",
    "    print(\"--------------------------CASE---------------------------\")\n",
    "    print(content, end=\"\\n\\n\")\n",
    "\n",
    "    print(\"-------------------------TOKENS--------------------------\")\n",
    "    lexer = CoolLexer()\n",
    "    for token in lexer.tokenize(content):\n",
    "        print(token)\n",
    "\n",
    "    print(\"\\n-----------------------ERRORS--------------------------\")\n",
    "    for e in lexer.errors:\n",
    "        print(e)\n",
    "    print(\"_____________________________________________________________________________________________________\")\n",
    "    print('\\n\\n')    "
   ]
  }
 ],
 "metadata": {
  "kernelspec": {
   "display_name": "Python 3",
   "language": "python",
   "name": "python3"
  },
  "language_info": {
   "codemirror_mode": {
    "name": "ipython",
    "version": 3
   },
   "file_extension": ".py",
   "mimetype": "text/x-python",
   "name": "python",
   "nbconvert_exporter": "python",
   "pygments_lexer": "ipython3",
   "version": "3.10.12"
  }
 },
 "nbformat": 4,
 "nbformat_minor": 2
}
