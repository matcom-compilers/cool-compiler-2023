{
 "cells": [
  {
   "cell_type": "markdown",
   "metadata": {},
   "source": [
    "# Lexer"
   ]
  },
  {
   "cell_type": "markdown",
   "metadata": {},
   "source": [
    "##### Basic test case"
   ]
  },
  {
   "cell_type": "code",
   "execution_count": null,
   "metadata": {},
   "outputs": [],
   "source": [
    "from lexer.cool_lexer import CoolLexer\n",
    "import os\n",
    "case = \"string1.cl\"\n",
    "\n",
    "\n",
    "base_dir = os.getcwd()\n",
    "base_url = os.path.join(base_dir[:-13], \"tests/lexer/\")\n",
    "\n",
    "dir = '/'.join([base_url,case])\n",
    "with open(dir, \"r\") as f:\n",
    "    content = f.read()\n",
    "print(\"--------------------------CASE---------------------------\")\n",
    "print(content, end=\"\\n\\n\")\n",
    "\n",
    "print(\"-------------------------TOKENS--------------------------\")\n",
    "lexer = CoolLexer()\n",
    "for token in lexer.tokenize(content):\n",
    "    print(token)\n",
    "\n",
    "print(\"\\n-----------------------ERRORS--------------------------\")\n",
    "for e in lexer.errors:\n",
    "    print(e)"
   ]
  },
  {
   "cell_type": "markdown",
   "metadata": {},
   "source": [
    "##### Run all test cases"
   ]
  },
  {
   "cell_type": "code",
   "execution_count": null,
   "metadata": {},
   "outputs": [],
   "source": [
    "from lexer.cool_lexer import CoolLexer\n",
    "import os\n",
    "\n",
    "base_dir = os.getcwd()\n",
    "base_url = os.path.join(base_dir[:-13], \"tests/lexer/\")\n",
    "print (base_url)\n",
    "\n",
    "cases = [case for case in os.listdir(base_url) if case.endswith('.cl')] \n",
    "for case in cases:\n",
    "    dir = '/'.join([base_url,case])\n",
    "    with open(dir, \"r\") as f:\n",
    "        content = f.read()\n",
    "    print(\"--------------------------CASE---------------------------\")\n",
    "    print(content, end=\"\\n\\n\")\n",
    "\n",
    "    print(\"-------------------------TOKENS--------------------------\")\n",
    "    lexer = CoolLexer()\n",
    "    for token in lexer.tokenize(content):\n",
    "        print(token)\n",
    "\n",
    "    print(\"\\n-----------------------ERRORS--------------------------\")\n",
    "    for e in lexer.errors:\n",
    "        print(e)\n",
    "    print(\"_____________________________________________________________________________________________________\")\n",
    "    print('\\n\\n')    "
   ]
  },
  {
   "cell_type": "markdown",
   "metadata": {},
   "source": [
    "# Parser"
   ]
  },
  {
   "cell_type": "markdown",
   "metadata": {},
   "source": [
    "Este es un ejemplo de un parser para una grmatica simple"
   ]
  },
  {
   "cell_type": "code",
   "execution_count": null,
   "metadata": {},
   "outputs": [],
   "source": [
    "from lexer.cool_lexer import CoolLexer \n",
    "from parser.test_gramar import CalcParser\n",
    "\n",
    "lexer = CoolLexer()\n",
    "parser = CalcParser()\n",
    "\n",
    "text = '3 + 5 * 6 -5 + 7 * 8 * 19 + (3 + 5 * 6 -5 + 7 * 8 * 19)'\n",
    "# text = '3 + 5 * 6'\n",
    "result = parser.parse(lexer.tokenize(text))\n",
    "result.generate_ast()\n",
    "result.show_tree()"
   ]
  }
 ],
 "metadata": {
  "kernelspec": {
   "display_name": "Python 3",
   "language": "python",
   "name": "python3"
  },
  "language_info": {
   "codemirror_mode": {
    "name": "ipython",
    "version": 3
   },
   "file_extension": ".py",
   "mimetype": "text/x-python",
   "name": "python",
   "nbconvert_exporter": "python",
   "pygments_lexer": "ipython3",
   "version": "3.10.12"
  }
 },
 "nbformat": 4,
 "nbformat_minor": 2
}
