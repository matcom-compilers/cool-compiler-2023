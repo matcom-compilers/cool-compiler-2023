{
 "cells": [
  {
   "cell_type": "markdown",
   "metadata": {},
   "source": [
    "# Lexer"
   ]
  },
  {
   "cell_type": "markdown",
   "metadata": {},
   "source": [
    "##### Basic test case"
   ]
  },
  {
   "cell_type": "code",
   "execution_count": null,
   "metadata": {},
   "outputs": [],
   "source": [
    "from lexer.cool_lexer import CoolLexer\n",
    "import os\n",
    "case = \"iis1.cl\"\n",
    "\n",
    "\n",
    "base_dir = os.getcwd()\n",
    "base_url = os.path.join(base_dir[:-13], \"tests/lexer/\")\n",
    "\n",
    "dir = '/'.join([base_url,case])\n",
    "with open(dir, \"r\") as f:\n",
    "    content = f.read()\n",
    "print(\"--------------------------CASE---------------------------\")\n",
    "print(content, end=\"\\n\\n\")\n",
    "\n",
    "print(\"-------------------------TOKENS--------------------------\")\n",
    "lexer = CoolLexer()\n",
    "for token in lexer.tokenize(content):\n",
    "    print(token)\n",
    "\n",
    "print(\"\\n-----------------------ERRORS--------------------------\")\n",
    "for e in lexer.errors:\n",
    "    print(e)"
   ]
  },
  {
   "cell_type": "markdown",
   "metadata": {},
   "source": [
    "##### Run all test cases"
   ]
  },
  {
   "cell_type": "code",
   "execution_count": null,
   "metadata": {},
   "outputs": [],
   "source": [
    "from lexer.cool_lexer import CoolLexer\n",
    "import os\n",
    "\n",
    "base_dir = os.getcwd()\n",
    "base_url = os.path.join(base_dir[:-13], \"tests/lexer/\")\n",
    "\n",
    "cases = [case for case in os.listdir(base_url) if case.endswith('.cl')] \n",
    "for case in cases:\n",
    "    dir = '/'.join([base_url,case])\n",
    "    with open(dir, \"r\") as f:\n",
    "        content = f.read()\n",
    "    print(\"--------------------------CASE---------------------------\")\n",
    "    print(content, end=\"\\n\\n\")\n",
    "\n",
    "    print(\"-------------------------TOKENS--------------------------\")\n",
    "    lexer = CoolLexer()\n",
    "    for token in lexer.tokenize(content):\n",
    "        print(token)\n",
    "\n",
    "    print(\"\\n-----------------------ERRORS--------------------------\")\n",
    "    for e in lexer.errors:\n",
    "        print(e)\n",
    "    print(\"_____________________________________________________________________________________________________\")\n",
    "    print('\\n\\n')    "
   ]
  },
  {
   "cell_type": "markdown",
   "metadata": {},
   "source": [
    "# Parser"
   ]
  },
  {
   "cell_type": "markdown",
   "metadata": {},
   "source": [
    "##### casos de prueba manuales"
   ]
  },
  {
   "cell_type": "code",
   "execution_count": null,
   "metadata": {},
   "outputs": [],
   "source": [
    "from parser.cool_parser import CoolLexer, CoolParser\n",
    "\n",
    "lexer = CoolLexer()\n",
    "parser = CoolParser(lexer = lexer)\n",
    "############ ---------------------------------------------expr------------------------------------------------------------############\n",
    "_while = 'while (3 + 5) * 6 < 17 + 18 * (false - true) loop if not if true then 1 else 0 fi then false else 18 fi pool'\n",
    "_if = 'if not if true then ~(1 + 4 * 2) else 0 fi then false else 18 fi'\n",
    "_let = 'let a:STRING <- \"asd\", b:STRING <- \"qwe\", c:STRING <- \"zxc\" in {New INT; a + b * c;}'\n",
    "_id_call = 'x(a,b,c, 3+4)'\n",
    "_block = '{New INT; a + b * c; let a:STRING <- \"asd\" in a; case x of a:STRING => 1; b:STRING => 1; c:STRING => 1; esac; }'\n",
    "_case = 'case x of a:STRING => 1; b:STRING => 1; c:STRING => 1; esac'\n",
    "_full_block = '{'+ f'{_if}; {_let}; {_block}; {_case}; {_while};' + '}'\n",
    "_assign = 'a <- 4'\n",
    "_object_method = '{ c.a(); c@INT.a();c@INT.a(x, 2, 6*8);}'\n",
    "############ ------------------------------------------program class-------------------------------------------------------############\n",
    "scope = '{a<-1; b<-2; c<-a+b; case x of a:INT => 1; b:INT => 1; c:INT => 1; esac; }'\n",
    "_def = 'f(q:INT, w:INT):INT {'+ scope +'}'\n",
    "_class1 = 'class MyClass1 { a:INT <- 1; f(x:INT):INT { print(x) }; }'\n",
    "_class2 = 'class MyClass2 { b:INT <- 2; f(y:INT):INT { {y<-y+1; print(y + 3);} }; }'\n",
    "_program = f'{_class1};{_class2};'\n",
    "#-------------------------------------------------------------------------------------------------------------------------------------#\n",
    "\n",
    "result = parser.parse(lexer.tokenize(_program))\n",
    "result.show_tree()"
   ]
  },
  {
   "cell_type": "markdown",
   "metadata": {},
   "source": [
    "##### casos de prueba de los testers seleccinando uno dado"
   ]
  },
  {
   "cell_type": "code",
   "execution_count": null,
   "metadata": {},
   "outputs": [],
   "source": [
    "#select the test case that do you want analize, index could be >= 1\n",
    "index_test = 5\n",
    "show_ast = True\n",
    "\n",
    "#region ############# ---------Code Region--------- ################\n",
    "from parser.cool_parser import CoolLexer, CoolParser, Node\n",
    "import os\n",
    "lexer = CoolLexer()\n",
    "\n",
    "parser = CoolParser(lexer = lexer)\n",
    "base_dir = os.getcwd()\n",
    "base_url = os.path.join(base_dir[:-13], \"tests/parser/\")\n",
    "cases = [case for case in os.listdir(base_url) if case.endswith('.cl')] \n",
    "cases.sort()\n",
    "case = cases[index_test-1]\n",
    "case_error = case[:-3] + '_error.txt'\n",
    "dir = '/'.join([base_url,case])\n",
    "dir_error = '/'.join([base_url,case_error])\n",
    "with open(dir, \"r\") as f:\n",
    "    code = f.read()\n",
    "with open(dir_error, \"r\") as f:\n",
    "    error = f.read()\n",
    "# endregion\n",
    "\n",
    "PROGRAM:Node = parser.parse(lexer.tokenize(code))\n",
    "if len(parser.errors) == 0 and show_ast:\n",
    "    PROGRAM.show_tree()\n",
    "\n",
    "print('\\n------------------PARSER ERRORS------------------')\n",
    "for e in parser.errors:\n",
    "    print(e)\n",
    "print (\"\\n------------------EXPECTED ERRORS:---------------\")\n",
    "print(error)    "
   ]
  },
  {
   "cell_type": "markdown",
   "metadata": {},
   "source": [
    "##### Todos los casos de prueba de los testers"
   ]
  },
  {
   "cell_type": "code",
   "execution_count": 1,
   "metadata": {},
   "outputs": [
    {
     "ename": "TypeError",
     "evalue": "object of type 'CoolParamsScope' has no len()",
     "output_type": "error",
     "traceback": [
      "\u001b[0;31m---------------------------------------------------------------------------\u001b[0m",
      "\u001b[0;31mTypeError\u001b[0m                                 Traceback (most recent call last)",
      "\u001b[1;32m/home/raul/Almacenamiento/Computation Sience/Compiler/cool-compiler-2023/src/compiler/main.ipynb Cell 12\u001b[0m line \u001b[0;36m2\n\u001b[1;32m     <a href='vscode-notebook-cell:/home/raul/Almacenamiento/Computation%20Sience/Compiler/cool-compiler-2023/src/compiler/main.ipynb#X14sZmlsZQ%3D%3D?line=18'>19</a>\u001b[0m lexer \u001b[39m=\u001b[39m CoolLexer()\n\u001b[1;32m     <a href='vscode-notebook-cell:/home/raul/Almacenamiento/Computation%20Sience/Compiler/cool-compiler-2023/src/compiler/main.ipynb#X14sZmlsZQ%3D%3D?line=19'>20</a>\u001b[0m parser \u001b[39m=\u001b[39m CoolParser(lexer \u001b[39m=\u001b[39m lexer)\n\u001b[0;32m---> <a href='vscode-notebook-cell:/home/raul/Almacenamiento/Computation%20Sience/Compiler/cool-compiler-2023/src/compiler/main.ipynb#X14sZmlsZQ%3D%3D?line=21'>22</a>\u001b[0m PROGRAM \u001b[39m=\u001b[39m parser\u001b[39m.\u001b[39;49mparse(lexer\u001b[39m.\u001b[39;49mtokenize(code))\n\u001b[1;32m     <a href='vscode-notebook-cell:/home/raul/Almacenamiento/Computation%20Sience/Compiler/cool-compiler-2023/src/compiler/main.ipynb#X14sZmlsZQ%3D%3D?line=23'>24</a>\u001b[0m \u001b[39mprint\u001b[39m(\u001b[39mf\u001b[39m\u001b[39m'\u001b[39m\u001b[39m\\n\u001b[39;00m\u001b[39m\\n\u001b[39;00m\u001b[39m\\n\u001b[39;00m\u001b[39m######################### CASE \u001b[39m\u001b[39m{\u001b[39;00mi\u001b[39m+\u001b[39m\u001b[39m1\u001b[39m\u001b[39m}\u001b[39;00m\u001b[39m #############################\u001b[39m\u001b[39m'\u001b[39m)\n\u001b[1;32m     <a href='vscode-notebook-cell:/home/raul/Almacenamiento/Computation%20Sience/Compiler/cool-compiler-2023/src/compiler/main.ipynb#X14sZmlsZQ%3D%3D?line=24'>25</a>\u001b[0m \u001b[39mprint\u001b[39m(\u001b[39m'\u001b[39m\u001b[39m----------------------PARSER ERRORS---------------------------\u001b[39m\u001b[39m'\u001b[39m)\n",
      "File \u001b[0;32m~/.local/lib/python3.10/site-packages/sly/yacc.py:2137\u001b[0m, in \u001b[0;36mParser.parse\u001b[0;34m(self, tokens)\u001b[0m\n\u001b[1;32m   2135\u001b[0m sym \u001b[39m=\u001b[39m YaccSymbol()\n\u001b[1;32m   2136\u001b[0m sym\u001b[39m.\u001b[39mtype \u001b[39m=\u001b[39m pname       \n\u001b[0;32m-> 2137\u001b[0m value \u001b[39m=\u001b[39m p\u001b[39m.\u001b[39;49mfunc(\u001b[39mself\u001b[39;49m, pslice)\n\u001b[1;32m   2138\u001b[0m \u001b[39mif\u001b[39;00m value \u001b[39mis\u001b[39;00m pslice:\n\u001b[1;32m   2139\u001b[0m     value \u001b[39m=\u001b[39m (pname, \u001b[39m*\u001b[39m(s\u001b[39m.\u001b[39mvalue \u001b[39mfor\u001b[39;00m s \u001b[39min\u001b[39;00m pslice\u001b[39m.\u001b[39m_slice))\n",
      "File \u001b[0;32m~/Almacenamiento/Computation Sience/Compiler/cool-compiler-2023/src/compiler/parser/cool_parser.py:65\u001b[0m, in \u001b[0;36mCoolParser.program\u001b[0;34m(self, p)\u001b[0m\n\u001b[1;32m     63\u001b[0m \u001b[39m@_\u001b[39m(\u001b[39m'\u001b[39m\u001b[39mclass_list\u001b[39m\u001b[39m'\u001b[39m)\n\u001b[1;32m     64\u001b[0m \u001b[39mdef\u001b[39;00m \u001b[39mprogram\u001b[39m(\u001b[39mself\u001b[39m, p): \n\u001b[0;32m---> 65\u001b[0m     \u001b[39mreturn\u001b[39;00m CoolProgram(p\u001b[39m.\u001b[39;49mclass_list)\n",
      "File \u001b[0;32m~/Almacenamiento/Computation Sience/Compiler/cool-compiler-2023/src/compiler/AST/ast.py:596\u001b[0m, in \u001b[0;36mCoolProgram.__init__\u001b[0;34m(self, cclass_list)\u001b[0m\n\u001b[1;32m    594\u001b[0m \u001b[39mself\u001b[39m\u001b[39m.\u001b[39mclasses \u001b[39m=\u001b[39m cclass_list\n\u001b[1;32m    595\u001b[0m Node\u001b[39m.\u001b[39m\u001b[39m__init__\u001b[39m(\u001b[39mself\u001b[39m,values\u001b[39m=\u001b[39m\u001b[39mself\u001b[39m\u001b[39m.\u001b[39mchilds())\n\u001b[0;32m--> 596\u001b[0m \u001b[39mfrom\u001b[39;00m \u001b[39msemantic\u001b[39;00m\u001b[39m.\u001b[39;00m\u001b[39mcool_bases\u001b[39;00m \u001b[39mimport\u001b[39;00m Program \u001b[39m#Esto va a dar error de importacion circular. En ese caso hay que reestructurar todo plp super feo\u001b[39;00m\n\u001b[1;32m    597\u001b[0m \u001b[39mself\u001b[39m\u001b[39m.\u001b[39mcontext \u001b[39m=\u001b[39m Program\u001b[39m.\u001b[39mcontext\n",
      "File \u001b[0;32m~/Almacenamiento/Computation Sience/Compiler/cool-compiler-2023/src/compiler/semantic/cool_bases.py:39\u001b[0m\n\u001b[1;32m     36\u001b[0m         context \u001b[39m=\u001b[39m Context(father\u001b[39m=\u001b[39m\u001b[39mself\u001b[39m)\n\u001b[1;32m     37\u001b[0m         \u001b[39mself\u001b[39m\u001b[39m.\u001b[39mtypes[key] \u001b[39m=\u001b[39m context\n\u001b[0;32m---> 39\u001b[0m \u001b[39mclass\u001b[39;00m \u001b[39mProgram\u001b[39;00m:\n\u001b[1;32m     40\u001b[0m     context \u001b[39m=\u001b[39m BaseContext()\n\u001b[1;32m     41\u001b[0m     \u001b[39mdef\u001b[39;00m \u001b[39mset_context\u001b[39m(obj):\n",
      "File \u001b[0;32m~/Almacenamiento/Computation Sience/Compiler/cool-compiler-2023/src/compiler/semantic/cool_bases.py:40\u001b[0m, in \u001b[0;36mProgram\u001b[0;34m()\u001b[0m\n\u001b[1;32m     39\u001b[0m \u001b[39mclass\u001b[39;00m \u001b[39mProgram\u001b[39;00m:\n\u001b[0;32m---> 40\u001b[0m     context \u001b[39m=\u001b[39m BaseContext()\n\u001b[1;32m     41\u001b[0m     \u001b[39mdef\u001b[39;00m \u001b[39mset_context\u001b[39m(obj):\n\u001b[1;32m     42\u001b[0m         obj\u001b[39m.\u001b[39mcontext \u001b[39m=\u001b[39m Program\u001b[39m.\u001b[39mcontext\n",
      "File \u001b[0;32m~/Almacenamiento/Computation Sience/Compiler/cool-compiler-2023/src/compiler/semantic/cool_bases.py:6\u001b[0m, in \u001b[0;36mBaseContext.__init__\u001b[0;34m(self)\u001b[0m\n\u001b[1;32m      4\u001b[0m \u001b[39mdef\u001b[39;00m \u001b[39m__init__\u001b[39m(\u001b[39mself\u001b[39m) \u001b[39m-\u001b[39m\u001b[39m>\u001b[39m \u001b[39mNone\u001b[39;00m:\n\u001b[1;32m      5\u001b[0m     \u001b[39msuper\u001b[39m()\u001b[39m.\u001b[39m\u001b[39m__init__\u001b[39m(father\u001b[39m=\u001b[39m \u001b[39mNone\u001b[39;00m)\n\u001b[0;32m----> 6\u001b[0m     \u001b[39mself\u001b[39;49m\u001b[39m.\u001b[39;49mset_bases()\n",
      "File \u001b[0;32m~/Almacenamiento/Computation Sience/Compiler/cool-compiler-2023/src/compiler/semantic/cool_bases.py:10\u001b[0m, in \u001b[0;36mBaseContext.set_bases\u001b[0;34m(self)\u001b[0m\n\u001b[1;32m      8\u001b[0m \u001b[39mdef\u001b[39;00m \u001b[39mset_bases\u001b[39m(\u001b[39mself\u001b[39m):\n\u001b[1;32m      9\u001b[0m     \u001b[39mself\u001b[39m\u001b[39m.\u001b[39mset_object_context()\n\u001b[0;32m---> 10\u001b[0m     \u001b[39mself\u001b[39;49m\u001b[39m.\u001b[39;49mset_string_context()\n\u001b[1;32m     11\u001b[0m     \u001b[39mself\u001b[39m\u001b[39m.\u001b[39mset_int_context()\n\u001b[1;32m     12\u001b[0m     \u001b[39mself\u001b[39m\u001b[39m.\u001b[39mset_bool_context()\n",
      "File \u001b[0;32m~/Almacenamiento/Computation Sience/Compiler/cool-compiler-2023/src/compiler/semantic/cool_bases.py:24\u001b[0m, in \u001b[0;36mBaseContext.set_string_context\u001b[0;34m(self)\u001b[0m\n\u001b[1;32m     22\u001b[0m \u001b[39m#-------- DEFINE CONTEXT ----------\u001b[39;00m\n\u001b[1;32m     23\u001b[0m context \u001b[39m=\u001b[39m Context(father\u001b[39m=\u001b[39m\u001b[39mself\u001b[39m)\n\u001b[0;32m---> 24\u001b[0m func \u001b[39m=\u001b[39m CoolString\u001b[39m.\u001b[39;49mconcat()\n\u001b[1;32m     25\u001b[0m context\u001b[39m.\u001b[39mfunctions[func\u001b[39m.\u001b[39mID\u001b[39m.\u001b[39mid] \u001b[39m=\u001b[39m func\n\u001b[1;32m     26\u001b[0m \u001b[39m#----------------------------------\u001b[39;00m\n",
      "File \u001b[0;32m~/Almacenamiento/Computation Sience/Compiler/cool-compiler-2023/src/compiler/AST/ast.py:490\u001b[0m, in \u001b[0;36mCoolString.concat\u001b[0;34m()\u001b[0m\n\u001b[1;32m    488\u001b[0m \u001b[39mself\u001b[39m \u001b[39m=\u001b[39m CoolID(\u001b[39m'\u001b[39m\u001b[39mself\u001b[39m\u001b[39m'\u001b[39m,\u001b[39mtype\u001b[39m)\n\u001b[1;32m    489\u001b[0m other \u001b[39m=\u001b[39m CoolID(\u001b[39m'\u001b[39m\u001b[39mother\u001b[39m\u001b[39m'\u001b[39m,\u001b[39mtype\u001b[39m)\n\u001b[0;32m--> 490\u001b[0m \u001b[39mreturn\u001b[39;00m Feature\u001b[39m.\u001b[39;49mCoolDef(\u001b[39m'\u001b[39;49m\u001b[39mconcat\u001b[39;49m\u001b[39m'\u001b[39;49m,\u001b[39mtype\u001b[39;49m, CoolParamsScope([\u001b[39mself\u001b[39;49m,other]), BinOp(\u001b[39m'\u001b[39;49m\u001b[39m+\u001b[39;49m\u001b[39m'\u001b[39;49m,\u001b[39mself\u001b[39;49m,other))\n",
      "File \u001b[0;32m~/Almacenamiento/Computation Sience/Compiler/cool-compiler-2023/src/compiler/AST/ast.py:545\u001b[0m, in \u001b[0;36mFeature.CoolDef.__init__\u001b[0;34m(self, id, type, params, scope)\u001b[0m\n\u001b[1;32m    543\u001b[0m \u001b[39mself\u001b[39m\u001b[39m.\u001b[39mtype \u001b[39m=\u001b[39m \u001b[39mtype\u001b[39m\n\u001b[1;32m    544\u001b[0m \u001b[39mself\u001b[39m\u001b[39m.\u001b[39mscope:expr \u001b[39m=\u001b[39m scope\n\u001b[0;32m--> 545\u001b[0m \u001b[39mself\u001b[39m\u001b[39m.\u001b[39mparams \u001b[39m=\u001b[39m CoolParamsScope(params)\n\u001b[1;32m    546\u001b[0m Node\u001b[39m.\u001b[39m\u001b[39m__init__\u001b[39m(\u001b[39mself\u001b[39m,values\u001b[39m=\u001b[39m [params, scope])\n",
      "File \u001b[0;32m~/Almacenamiento/Computation Sience/Compiler/cool-compiler-2023/src/compiler/AST/ast.py:501\u001b[0m, in \u001b[0;36mCoolParamsScope.__init__\u001b[0;34m(self, exprs)\u001b[0m\n\u001b[1;32m    499\u001b[0m \u001b[39mdef\u001b[39;00m \u001b[39m__init__\u001b[39m(\u001b[39mself\u001b[39m, exprs:\u001b[39mlist\u001b[39m[CoolID] \u001b[39m=\u001b[39m \u001b[39mNone\u001b[39;00m) \u001b[39m-\u001b[39m\u001b[39m>\u001b[39m \u001b[39mNone\u001b[39;00m:\n\u001b[1;32m    500\u001b[0m     \u001b[39mself\u001b[39m\u001b[39m.\u001b[39mexprs \u001b[39m=\u001b[39m exprs\n\u001b[0;32m--> 501\u001b[0m     Node\u001b[39m.\u001b[39;49m\u001b[39m__init__\u001b[39;49m(\u001b[39mself\u001b[39;49m,values\u001b[39m=\u001b[39;49m\u001b[39mself\u001b[39;49m\u001b[39m.\u001b[39;49mexprs)\n",
      "File \u001b[0;32m~/Almacenamiento/Computation Sience/Compiler/cool-compiler-2023/src/compiler/AST/ast.py:93\u001b[0m, in \u001b[0;36mNode.__init__\u001b[0;34m(self, value, values)\u001b[0m\n\u001b[1;32m     90\u001b[0m \u001b[39mself\u001b[39m\u001b[39m.\u001b[39mfather:Node \u001b[39m=\u001b[39m \u001b[39mNone\u001b[39;00m\n\u001b[1;32m     91\u001b[0m \u001b[39mself\u001b[39m\u001b[39m.\u001b[39mname \u001b[39m=\u001b[39m \u001b[39m'\u001b[39m\u001b[39mempty\u001b[39m\u001b[39m'\u001b[39m\n\u001b[0;32m---> 93\u001b[0m \u001b[39mif\u001b[39;00m \u001b[39mlen\u001b[39;49m(values) \u001b[39m>\u001b[39m \u001b[39m0\u001b[39m:\n\u001b[1;32m     94\u001b[0m     \u001b[39mfor\u001b[39;00m val \u001b[39min\u001b[39;00m values:\n\u001b[1;32m     95\u001b[0m         \u001b[39mtry\u001b[39;00m: val\u001b[39m.\u001b[39mfather \u001b[39m=\u001b[39m \u001b[39mself\u001b[39m\n",
      "\u001b[0;31mTypeError\u001b[0m: object of type 'CoolParamsScope' has no len()"
     ]
    }
   ],
   "source": [
    "from parser.cool_parser import CoolLexer, CoolParser\n",
    "import os\n",
    "\n",
    "base_dir = os.getcwd()\n",
    "base_url = os.path.join(base_dir[:-13], \"tests/parser/\")\n",
    "cases = [case for case in os.listdir(base_url) if case.endswith('.cl')] \n",
    "cases.sort()\n",
    "\n",
    "for i in range(len(cases)):\n",
    "    case = cases[i]\n",
    "    case_error = case[:-3] + '_error.txt'\n",
    "    dir = '/'.join([base_url,case])\n",
    "    dir_error = '/'.join([base_url,case_error])\n",
    "    with open(dir, \"r\") as f:\n",
    "        code = f.read()\n",
    "    with open(dir_error, \"r\") as f:\n",
    "        error = f.read()\n",
    "\n",
    "    lexer = CoolLexer()\n",
    "    parser = CoolParser(lexer = lexer)\n",
    "\n",
    "    PROGRAM = parser.parse(lexer.tokenize(code))\n",
    "\n",
    "    print(f'\\n\\n\\n######################### CASE {i+1} #############################')\n",
    "    print('----------------------PARSER ERRORS---------------------------')\n",
    "    for e in parser.errors:\n",
    "        print(e)\n",
    "    print (\"\\n---------------------EXPECTED ERRORS:-------------------------\")\n",
    "    print(error)    \n"
   ]
  }
 ],
 "metadata": {
  "kernelspec": {
   "display_name": "Python 3",
   "language": "python",
   "name": "python3"
  },
  "language_info": {
   "codemirror_mode": {
    "name": "ipython",
    "version": 3
   },
   "file_extension": ".py",
   "mimetype": "text/x-python",
   "name": "python",
   "nbconvert_exporter": "python",
   "pygments_lexer": "ipython3",
   "version": "3.10.12"
  }
 },
 "nbformat": 4,
 "nbformat_minor": 2
}
