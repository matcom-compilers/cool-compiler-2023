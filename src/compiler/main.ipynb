{
 "cells": [
  {
   "cell_type": "markdown",
   "metadata": {},
   "source": [
    "# Lexer"
   ]
  },
  {
   "cell_type": "markdown",
   "metadata": {},
   "source": [
    "##### Basic test case"
   ]
  },
  {
   "cell_type": "code",
   "execution_count": null,
   "metadata": {},
   "outputs": [],
   "source": [
    "from lexer.cool_lexer import CoolLexer\n",
    "import os\n",
    "case = \"string3.cl\"\n",
    "\n",
    "\n",
    "base_dir = os.getcwd()\n",
    "base_url = os.path.join(base_dir[:-13], \"tests/lexer/\")\n",
    "\n",
    "dir = '/'.join([base_url,case])\n",
    "with open(dir, \"r\") as f:\n",
    "    content = f.read()\n",
    "print(\"--------------------------CASE---------------------------\")\n",
    "print(content, end=\"\\n\\n\")\n",
    "\n",
    "print(\"-------------------------TOKENS--------------------------\")\n",
    "lexer = CoolLexer()\n",
    "for token in lexer.tokenize(content):\n",
    "    print(token)\n",
    "\n",
    "print(\"\\n-----------------------ERRORS--------------------------\")\n",
    "for e in lexer.errors:\n",
    "    print(e)"
   ]
  },
  {
   "cell_type": "markdown",
   "metadata": {},
   "source": [
    "##### Run all test cases"
   ]
  },
  {
   "cell_type": "code",
   "execution_count": null,
   "metadata": {},
   "outputs": [],
   "source": [
    "from lexer.cool_lexer import CoolLexer\n",
    "import os\n",
    "\n",
    "base_dir = os.getcwd()\n",
    "base_url = os.path.join(base_dir[:-13], \"tests/lexer/\")\n",
    "print (base_url)\n",
    "\n",
    "cases = [case for case in os.listdir(base_url) if case.endswith('.cl')] \n",
    "for case in cases:\n",
    "    dir = '/'.join([base_url,case])\n",
    "    with open(dir, \"r\") as f:\n",
    "        content = f.read()\n",
    "    print(\"--------------------------CASE---------------------------\")\n",
    "    print(content, end=\"\\n\\n\")\n",
    "\n",
    "    print(\"-------------------------TOKENS--------------------------\")\n",
    "    lexer = CoolLexer()\n",
    "    for token in lexer.tokenize(content):\n",
    "        print(token)\n",
    "\n",
    "    print(\"\\n-----------------------ERRORS--------------------------\")\n",
    "    for e in lexer.errors:\n",
    "        print(e)\n",
    "    print(\"_____________________________________________________________________________________________________\")\n",
    "    print('\\n\\n')    "
   ]
  },
  {
   "cell_type": "markdown",
   "metadata": {},
   "source": [
    "# Parser"
   ]
  },
  {
   "cell_type": "markdown",
   "metadata": {},
   "source": [
    "##### casos de prueba manuales"
   ]
  },
  {
   "cell_type": "code",
   "execution_count": null,
   "metadata": {},
   "outputs": [],
   "source": [
    "from parser.cool_parser import CoolLexer, CoolParser\n",
    "\n",
    "lexer = CoolLexer()\n",
    "parser = CoolParser()\n",
    "\n",
    "############ ---------------------------------------------expr------------------------------------------------------------############\n",
    "_while = 'while (3 + 5) * 6 < 17 + 18 * (false - true) loop if not if true then 1 else 0 fi then false else 18 fi pool'\n",
    "_if = 'if not if true then ~(1 + 4 * 2) else 0 fi then false else 18 fi'\n",
    "_let = 'let a:STRING <- \"asd\", b:STRING <- \"qwe\", c:STRING <- \"zxc\" in {New INT; a + b * c;}'\n",
    "_id_call = 'x(a,b,c, 3+4)'\n",
    "_block = '{New INT; a + b * c; let a:STRING <- \"asd\" in a; case x of a:STRING => 1; b:STRING => 1; c:STRING => 1; esac; }'\n",
    "_case = 'case x of a:STRING => 1; b:STRING => 1; c:STRING => 1; esac'\n",
    "_full_block = '{'+ f'{_if}; {_let}; {_block}; {_case}; {_while};' + '}'\n",
    "_assign = 'a <- 4'\n",
    "_object_method = '{ c.a(); c@INT.a();c@INT.a(x, 2, 6*8);}'\n",
    "############ ------------------------------------------program class-------------------------------------------------------############\n",
    "scope = '{a<-1; b<-2; c<-a+b; case x of a:INT => 1; b:INT => 1; c:INT => 1; esac; }'\n",
    "_def = 'f(q:INT, w:INT):INT {'+ scope +'}'\n",
    "_class1 = 'class MyClass1 { a:INT <- 1; f(x:INT):INT { print(x) }; }'\n",
    "_class2 = 'class MyClass2 { b:INT <- 2; f(y:INT):INT { {y<-y+1; print(y + 3);} }; }'\n",
    "_program = f'{_class1};{_class2};'\n",
    "#-------------------------------------------------------------------------------------------------------------------------------------#\n",
    "\n",
    "result = parser.parse(lexer.tokenize(_program))\n",
    "result.show_tree()"
   ]
  }
 ],
 "metadata": {
  "kernelspec": {
   "display_name": "Python 3",
   "language": "python",
   "name": "python3"
  },
  "language_info": {
   "codemirror_mode": {
    "name": "ipython",
    "version": 3
   },
   "file_extension": ".py",
   "mimetype": "text/x-python",
   "name": "python",
   "nbconvert_exporter": "python",
   "pygments_lexer": "ipython3",
   "version": "3.10.12"
  }
 },
 "nbformat": 4,
 "nbformat_minor": 2
}
